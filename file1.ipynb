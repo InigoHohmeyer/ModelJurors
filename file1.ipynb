{
 "cells": [
  {
   "cell_type": "code",
   "execution_count": 88,
   "metadata": {},
   "outputs": [],
   "source": [
    "import pandas as pd\n",
    "import numpy as np"
   ]
  },
  {
   "cell_type": "code",
   "execution_count": 89,
   "metadata": {},
   "outputs": [
    {
     "data": {
      "text/plain": [
       "True"
      ]
     },
     "execution_count": 89,
     "metadata": {},
     "output_type": "execute_result"
    }
   ],
   "source": [
    "# sets up the API keys\n",
    "from dotenv import load_dotenv\n",
    "import os \n",
    "load_dotenv(dotenv_path='/Users/inigohohmeyer/keys.env')\n"
   ]
  },
  {
   "cell_type": "code",
   "execution_count": 110,
   "metadata": {},
   "outputs": [],
   "source": [
    "import requests\n",
    "\n",
    "HOST = 'https://api.census.gov/data'\n",
    "year = '2020'  # Specify the desired year\n",
    "dataset = 'dec/sf1'  # Specify the dataset and sub-dataset\n",
    "api_key = os.getenv(\"API_KEY_CENSUS\") \n",
    "\n",
    "base_url = \"/\".join([HOST, year, dataset])\n",
    "\n",
    "predicates = {}\n",
    "\n",
    "get_vars = [\"NAME\", \"P001001\"]\n",
    "\n",
    "predicates[\"get\"] = \",\".join(get_vars) \n",
    "\n",
    "predicates[\"for\"] = \"county:*\"\n",
    "\n",
    "predicates[\"in\"] = \"\"\n",
    "\n",
    "r = requests.get(base_url, params=predicates)"
   ]
  },
  {
   "cell_type": "code",
   "execution_count": 111,
   "metadata": {},
   "outputs": [
    {
     "name": "stdout",
     "output_type": "stream",
     "text": [
      "error: unknown/unsupported geography heirarchy\n"
     ]
    }
   ],
   "source": [
    "def get_census_data(state, county, api_key):\n",
    "    base_url = 'https://api.census.gov/data/2020/dec/dp'\n",
    "    query_params = {\n",
    "        'get': 'NAME',\n",
    "        'for': 'tract:*',\n",
    "        'in': f'state:{state}',\n",
    "        'in': f'county:{county}',\n",
    "        'key': api_key\n",
    "    }\n",
    "\n",
    "    response = requests.get(base_url, params=query_params)\n",
    "    if response.status_code == 200:\n",
    "        data = response.json()\n",
    "        return data\n",
    "    else:\n",
    "        print('Error: Unable to retrieve Census data.')\n",
    "        return None"
   ]
  },
  {
   "cell_type": "code",
   "execution_count": null,
   "metadata": {},
   "outputs": [],
   "source": []
  }
 ],
 "metadata": {
  "kernelspec": {
   "display_name": "Python 3.10.4 ('cz310')",
   "language": "python",
   "name": "python3"
  },
  "language_info": {
   "codemirror_mode": {
    "name": "ipython",
    "version": 3
   },
   "file_extension": ".py",
   "mimetype": "text/x-python",
   "name": "python",
   "nbconvert_exporter": "python",
   "pygments_lexer": "ipython3",
   "version": "3.10.4"
  },
  "orig_nbformat": 4,
  "vscode": {
   "interpreter": {
    "hash": "f9ddbe2f7978acd1d0eee4a6793d66b2a87c6561dca92ddfc7602c0bd92f7bb9"
   }
  }
 },
 "nbformat": 4,
 "nbformat_minor": 2
}
